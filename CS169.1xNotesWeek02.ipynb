{
 "metadata": {
  "name": "CS169.1xNotesWeek02"
 },
 "nbformat": 3,
 "nbformat_minor": 0,
 "worksheets": [
  {
   "cells": [
    {
     "cell_type": "markdown",
     "metadata": {},
     "source": [
      "##Ruby Refresher\n",
      "\n",
      "Things to remember:\n",
      "\n",
      "- Metaprogramming is important: `method_missing` and `*_eval` methods are used a LOT in RoR.\n",
      "\n",
      "- `Yield` s not at all like in python.  Yield executes passed in blocks each time called, does not return as in python.\n",
      "\n",
      "- There is *no* access to class instance attributes outside of getter and setter methods, hence the `attr_*` methods.\n",
      "\n",
      "- `attr_writer` has gotchas:  You have NO access to instance variable at all other than through the `foo=` method, even if it is an array and you want to modify it using the `<<` operator."
     ]
    },
    {
     "cell_type": "code",
     "collapsed": false,
     "input": [
      "%%ruby\n",
      "class A\n",
      "    attr_writer :x\n",
      "    def initialize\n",
      "        @x = []\n",
      "    end\n",
      "end\n",
      "\n",
      "a = A.new\n",
      "a.x << 1"
     ],
     "language": "python",
     "metadata": {},
     "outputs": [
      {
       "output_type": "stream",
       "stream": "stderr",
       "text": [
        "-:9:in `<main>': undefined method `x' for #<A:0x007fb9121d53d0 @x=[]> (NoMethodError)\n"
       ]
      }
     ],
     "prompt_number": 4
    },
    {
     "cell_type": "code",
     "collapsed": false,
     "input": [
      "%%ruby\n",
      "class A\n",
      "    attr_writer :x\n",
      "    def initialize\n",
      "        @x = []\n",
      "    end\n",
      "end\n",
      "\n",
      "a = A.new\n",
      "a.x.push 1"
     ],
     "language": "python",
     "metadata": {},
     "outputs": [
      {
       "output_type": "stream",
       "stream": "stderr",
       "text": [
        "-:9:in `<main>': undefined method `x' for #<A:0x007fe2340c53c8 @x=[]> (NoMethodError)\n"
       ]
      }
     ],
     "prompt_number": 16
    },
    {
     "cell_type": "code",
     "collapsed": false,
     "input": [
      "%%ruby\n",
      "class A\n",
      "    attr_accessor :x\n",
      "    def initialize\n",
      "        @x = []\n",
      "    end\n",
      "end\n",
      "\n",
      "a = A.new\n",
      "a.x << 1\n",
      "p a.x"
     ],
     "language": "python",
     "metadata": {},
     "outputs": [
      {
       "output_type": "stream",
       "stream": "stdout",
       "text": [
        "[1]\n"
       ]
      }
     ],
     "prompt_number": 17
    },
    {
     "cell_type": "markdown",
     "metadata": {},
     "source": [
      "Question: How does `attr_writer` handle updating arrays using `<<` or `Array#push` methods?"
     ]
    },
    {
     "cell_type": "code",
     "collapsed": false,
     "input": [
      "%%ruby\n",
      "#Hash default values point to same object unless a primitive or unless you take special steps like passing in\n",
      "#a block to populate each new hash value.\n",
      "#For example to initialize each value in a hash to an empty array:\n",
      "\n",
      "h = Hash.new { |hash,k| hash[k] = [] }\n",
      "h[:foo] << 1\n",
      "p h.inspect"
     ],
     "language": "python",
     "metadata": {},
     "outputs": [
      {
       "output_type": "stream",
       "stream": "stdout",
       "text": [
        "\"{:foo=>[1]}\"\n"
       ]
      }
     ],
     "prompt_number": 25
    },
    {
     "cell_type": "code",
     "collapsed": false,
     "input": [
      "%%ruby\n",
      "h = Hash.new([]) #default value is single object not really part of hash!\n",
      "h[:foo] << 1\n",
      "p h[:foo] #OK\n",
      "p h[:bar] #well?\n",
      "p h.inspect     #well!!"
     ],
     "language": "python",
     "metadata": {},
     "outputs": [
      {
       "output_type": "stream",
       "stream": "stdout",
       "text": [
        "[1]\n",
        "[1]\n",
        "\"{}\"\n"
       ]
      }
     ],
     "prompt_number": 2
    },
    {
     "cell_type": "markdown",
     "metadata": {},
     "source": [
      "##Regex and Quoted Strings:\n",
      "\n",
      "`/^foo$/` or `%r{^foo$}` equvalent regex. *Note the %x{} construct, like quoted strings*\n",
      "\n",
      "`'foo'` or `%q{foo}` or `%q[foo]` or `%q(foo)`, `\"foo\"` or `%Q{foo}`, etc. *Note that %x{} construct allows inclusion of single and double quotes and multi-line strings.*  No triple quoted strings, I'm pretty sure.  \n",
      "\n",
      "Note choice of `{,[,(` for delimiter, all intended to avoid having to escape characters in the string.\n",
      "\n",
      "`\"Hi #{my_name}!\"` is string interpolation when `my_name` is variable. \n",
      "\n"
     ]
    },
    {
     "cell_type": "code",
     "collapsed": false,
     "input": [
      "%%ruby\n",
      "p 57.methods"
     ],
     "language": "python",
     "metadata": {},
     "outputs": [
      {
       "output_type": "stream",
       "stream": "stdout",
       "text": [
        "[:to_s, :inspect, :-@, :+, :-, :*, :/, :div, :%, :modulo, :divmod, :fdiv, :**, :abs, :magnitude, :==, :===, :<=>, :>, :>=, :<, :<=, :~, :&, :|, :^, :[], :<<, :>>, :to_f, :size, :zero?, :odd?, :even?, :succ, :integer?, :upto, :downto, :times, :next, :pred, :chr, :ord, :to_i, :to_int, :floor, :ceil, :truncate, :round, :gcd, :lcm, :gcdlcm, :numerator, :denominator, :to_r, :rationalize, :singleton_method_added, :coerce, :i, :+@, :eql?, :quo, :remainder, :real?, :nonzero?, :step, :to_c, :real, :imaginary, :imag, :abs2, :arg, :angle, :phase, :rectangular, :rect, :polar, :conjugate, :conj, :between?, :nil?, :=~, :!~, :hash, :class, :singleton_class, :clone, :dup, :taint, :tainted?, :untaint, :untrust, :untrusted?, :trust, :freeze, :frozen?, :methods, :singleton_methods, :protected_methods, :private_methods, :public_methods, :instance_variables, :instance_variable_get, :instance_variable_set, :instance_variable_defined?, :remove_instance_variable, :instance_of?, :kind_of?, :is_a?, :tap, :send, :public_send, :respond_to?, :extend, :display, :method, :public_method, :define_singleton_method, :object_id, :to_enum, :enum_for, :equal?, :!, :!=, :instance_eval, :instance_exec, :__send__, :__id__]\n"
       ]
      }
     ],
     "prompt_number": 2
    },
    {
     "cell_type": "code",
     "collapsed": false,
     "input": [
      "%%ruby\n",
      "p 'xx'.length\n",
      "\n",
      "p 'xx'.send :length\n",
      "    \n",
      "x = 'length'\n",
      "\n",
      "p 'xx'.send x.to_sym #dynamic method call\n",
      "\n",
      "def my_method(a)\n",
      "   a*2\n",
      "end\n",
      "\n",
      "p self.send(:my_method,3) #There is always a self, in this case the main scope."
     ],
     "language": "python",
     "metadata": {},
     "outputs": [
      {
       "output_type": "stream",
       "stream": "stdout",
       "text": [
        "2\n",
        "2\n",
        "2\n",
        "6\n"
       ]
      }
     ],
     "prompt_number": 6
    },
    {
     "cell_type": "markdown",
     "metadata": {},
     "source": [
      "Remember `a.b` does *not* mean that `b` is an instance variable or attribute of `a`.  It merely means that object `a` is being sent method call `b`\n",
      "\n",
      "`Class#method` is notation for an instance method, while Class.method is a class method.\n",
      "\n",
      "Note syntactic sugar for method calls where last (or only) argument is a hash:\n",
      "\n",
      "`link_to('Example',{:class => 'nav_bar', :id => '101})  #formal call`\n",
      "\n",
      "`link_to 'Example',{:class => 'nav_bar', :id => '101}   #can drop parens when unambiguous`\n",
      "\n",
      "`link_to 'Example',:class => 'nav_bar', :id => '101     #can drop braces around hash, common in RoR`\n",
      "\n",
      "`link_to 'Example', class:'nav_bar', id:'101            #Ruby >= 1.9 can use Python-like hash notation`"
     ]
    },
    {
     "cell_type": "markdown",
     "metadata": {},
     "source": [
      "##OOP\n",
      "\n",
      "See below.  Note that class variables still can only be accessed within class, and  a class method has to be referred to by the class name, and not referred to by an intance name.  *Note that nothing stops me from having an instance method that returns or modifies a class variable.*"
     ]
    },
    {
     "cell_type": "code",
     "collapsed": false,
     "input": [
      "%%ruby\n",
      "class Account\n",
      "  # attr_accessor :balance #use this for balance and balance=\n",
      "\n",
      "  # constructor used when Account.new(...) called \n",
      "  def initialize(starting_balance=0) # optional argument\n",
      "    @balance = starting_balance\n",
      "  end\n",
      "  def balance\t # instance method\n",
      "    @balance   # instance var: visible only to this object\n",
      "  end\n",
      "  def balance=(new_amount)  # note method name: like setter\n",
      "    @balance = new_amount\n",
      "  end\n",
      "  def deposit(amount)\n",
      "    @balance += amount\n",
      "  end\n",
      "  @@bank_name = \"MyBank.com\"    # class (static) variable  \n",
      "  # A class method\n",
      "  def self.bank_name   # note difference in method def\n",
      "    @@bank_name\n",
      "  end\n",
      "  # or: def SavingsAccount.bank_name ; @@bank_name ; end\n",
      "    \n",
      "  def my_bank_name\n",
      "    @@bank_name\n",
      "  end\n",
      "\n",
      "  def set_my_bank_name(bn)\n",
      "    @@bank_name = bn\n",
      "  end\n",
      "    \n",
      "end\n",
      "\n",
      "a = Account.new 100\n",
      "a.deposit 20\n",
      "p a.balance\n",
      "\n",
      "p Account.bank_name\n",
      "p a.my_bank_name\n",
      "\n",
      "b = Account.new\n",
      "p a.my_bank_name\n",
      "p b.my_bank_name\n",
      "a.set_my_bank_name \"Key Bank\"\n",
      "p b.my_bank_name #Class variable modified for all instances!\n",
      "p a.bank_name #throw exception"
     ],
     "language": "python",
     "metadata": {},
     "outputs": [
      {
       "output_type": "stream",
       "stream": "stdout",
       "text": [
        "120\n",
        "\"MyBank.com\"\n",
        "\"MyBank.com\"\n",
        "\"MyBank.com\"\n",
        "\"MyBank.com\"\n",
        "\"Key Bank\"\n"
       ]
      },
      {
       "output_type": "stream",
       "stream": "stderr",
       "text": [
        "-:45:in `<main>': undefined method `bank_name' for #<Account:0x007fc8c1106850 @balance=120> (NoMethodError)\n"
       ]
      }
     ],
     "prompt_number": 13
    },
    {
     "cell_type": "code",
     "collapsed": false,
     "input": [
      "%%ruby\n",
      "class String\n",
      "  def curvy?\n",
      "    ## Note this does not do what it is supposed to do.\n",
      "    ##  include? looks for exact substring in receiver.\n",
      "    ## Some form of any? or all? might work\n",
      "    !(\"AEFHIKLMNTVWXYZ\".include?(self.upcase))\n",
      "  end\n",
      "end\n",
      "\n",
      "p \"foo\".curvy?"
     ],
     "language": "python",
     "metadata": {},
     "outputs": [
      {
       "output_type": "stream",
       "stream": "stdout",
       "text": [
        "true\n"
       ]
      }
     ],
     "prompt_number": 30
    },
    {
     "cell_type": "markdown",
     "metadata": {},
     "source": [
      "##Metaprogramming.\n",
      "\n",
      "`method_missing`, `instance_eval`, and 'class_eval`\n",
      "\n"
     ]
    },
    {
     "cell_type": "code",
     "collapsed": false,
     "input": [
      "%%ruby\n",
      "class Numeric\n",
      "  def euros\n",
      "    self * 1.2\n",
      "  end\n",
      "\n",
      "  alias_method :euro, :euros #cheater for method_missing illustration, but is a special case for euros.\n",
      "            #while method_missing approach handles all de-pleuralization cases.\n",
      "end\n",
      "\n",
      "p 5.euros\n",
      "p 1.euro"
     ],
     "language": "python",
     "metadata": {},
     "outputs": [
      {
       "output_type": "stream",
       "stream": "stdout",
       "text": [
        "6.0\n",
        "1.2\n"
       ]
      }
     ],
     "prompt_number": 32
    },
    {
     "cell_type": "markdown",
     "metadata": {},
     "source": [
      "##ITERATORS\n",
      "\n",
      "Typical *for x in list; do something with x; end* structure has the programmer controlling how the list is accessed.\n",
      "\n",
      "Ruby turns that on it's head and has enumerable objects control their own traversal:  You ask the object to give you elements in turn and the block you pass in via `{|e| foo(e) }` or `do |e|; foo(e); end` controls *what* you do with each item.\n",
      "\n",
      "Writing your own iterator for new object types using `yield` lets you control this.\n",
      "\n",
      "Note that since blocks attached to iterators almost always transform the original enumerable sequence, they can be the receiver of more calls, i.e. method chaining."
     ]
    },
    {
     "cell_type": "code",
     "collapsed": false,
     "input": [
      "%%ruby\n",
      "require 'mechanize'\n",
      "\n",
      "def get_clipper_value()\n",
      "  # local variables\n",
      "  url = 'https://clippercard.com/ClipperWeb/login.do'\n",
      "  username = 'xxx@xxx.com'\n",
      "  password = 'xxx'\n",
      "  # notice method chaining:\n",
      "  amount =\n",
      "    Mechanize.new.\n",
      "    # note passing of hash argument\n",
      "    post(url, :username => username, :password => password).\n",
      "    # note use of regular expression as hash value\n",
      "    link_with(:href => /cardValue/i).\n",
      "    click.\n",
      "    parser.xpath(\"//tr/td[contains(.,'Clipper Cash')]\").first.\n",
      "    next_sibling.next_sibling.\n",
      "    content.match(/\\$(\\d+\\.\\d+)/)\n",
      "  html($1)\n",
      "end"
     ],
     "language": "python",
     "metadata": {},
     "outputs": []
    },
    {
     "cell_type": "markdown",
     "metadata": {},
     "source": [
      "##Computer History aside\n",
      "\n",
      "See [http://www.topsecretrosies.com/](http://www.topsecretrosies.com/) on first female programmers on ENIAC"
     ]
    }
   ],
   "metadata": {}
  }
 ]
}