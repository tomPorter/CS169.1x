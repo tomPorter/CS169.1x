{
 "metadata": {
  "name": "CS169.1xNotesWeek02"
 },
 "nbformat": 3,
 "nbformat_minor": 0,
 "worksheets": [
  {
   "cells": [
    {
     "cell_type": "markdown",
     "metadata": {},
     "source": [
      "##Ruby Refresher\n",
      "\n",
      "Things to remember:\n",
      "\n",
      "- Metaprogramming is important: `method_missing` and `*_eval` methods are used a LOT in RoR.\n",
      "\n",
      "- `Yield` s not at all like in python.  Yield executes passed in blocks each time called, does not return as in python.\n",
      "\n",
      "- There is *no* access to class instance attributes outside of getter and setter methods, hence the `attr_*` methods.\n",
      "\n",
      "- `attr_writer` has gotchas:  You have NO access to instance variable at all other than through the `foo=` method, even if it is an array and you want to modify it using the `<<` operator."
     ]
    },
    {
     "cell_type": "code",
     "collapsed": false,
     "input": [
      "%%ruby\n",
      "class A\n",
      "    attr_writer :x\n",
      "    def initialize\n",
      "        @x = []\n",
      "    end\n",
      "end\n",
      "\n",
      "a = A.new\n",
      "a.x << 1"
     ],
     "language": "python",
     "metadata": {},
     "outputs": [
      {
       "output_type": "stream",
       "stream": "stderr",
       "text": [
        "-:9:in `<main>': undefined method `x' for #<A:0x007fb9121d53d0 @x=[]> (NoMethodError)\n"
       ]
      }
     ],
     "prompt_number": 4
    },
    {
     "cell_type": "code",
     "collapsed": false,
     "input": [
      "%%ruby\n",
      "class A\n",
      "    attr_writer :x\n",
      "    def initialize\n",
      "        @x = []\n",
      "    end\n",
      "end\n",
      "\n",
      "a = A.new\n",
      "a.x.push 1"
     ],
     "language": "python",
     "metadata": {},
     "outputs": [
      {
       "output_type": "stream",
       "stream": "stderr",
       "text": [
        "-:9:in `<main>': undefined method `x' for #<A:0x007fe2340c53c8 @x=[]> (NoMethodError)\n"
       ]
      }
     ],
     "prompt_number": 16
    },
    {
     "cell_type": "code",
     "collapsed": false,
     "input": [
      "%%ruby\n",
      "class A\n",
      "    attr_accessor :x\n",
      "    def initialize\n",
      "        @x = []\n",
      "    end\n",
      "end\n",
      "\n",
      "a = A.new\n",
      "a.x << 1\n",
      "p a.x"
     ],
     "language": "python",
     "metadata": {},
     "outputs": [
      {
       "output_type": "stream",
       "stream": "stdout",
       "text": [
        "[1]\n"
       ]
      }
     ],
     "prompt_number": 17
    },
    {
     "cell_type": "code",
     "collapsed": false,
     "input": [
      "%%ruby\n",
      "#Hash default values point to same object unless a primitive or unless you take special steps like passing in\n",
      "#a block to populate each new hash value.\n",
      "#For example to initialize each value in a hash to an empty array:\n",
      "\n",
      "h = Hash.new { |hash,k| hash[k] = [] }\n",
      "h[:foo] << 1\n",
      "p h.inspect"
     ],
     "language": "python",
     "metadata": {},
     "outputs": [
      {
       "output_type": "stream",
       "stream": "stdout",
       "text": [
        "\"{:foo=>[1]}\"\n"
       ]
      }
     ],
     "prompt_number": 25
    },
    {
     "cell_type": "code",
     "collapsed": false,
     "input": [
      "%%ruby\n",
      "h = Hash.new([]) #default value is single object not really part of hash!\n",
      "h[:foo] << 1\n",
      "p h[:foo] #OK\n",
      "p h[:bar] #well?\n",
      "p h.inspect     #well!!"
     ],
     "language": "python",
     "metadata": {},
     "outputs": [
      {
       "output_type": "stream",
       "stream": "stdout",
       "text": [
        "[1]\n",
        "[1]\n",
        "\"{}\"\n"
       ]
      }
     ],
     "prompt_number": 34
    },
    {
     "cell_type": "code",
     "collapsed": false,
     "input": [],
     "language": "python",
     "metadata": {},
     "outputs": []
    }
   ],
   "metadata": {}
  }
 ]
}