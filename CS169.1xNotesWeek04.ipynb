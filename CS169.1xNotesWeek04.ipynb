{
 "metadata": {
  "name": "CS169.1xNotesWeek04"
 },
 "nbformat": 3,
 "nbformat_minor": 0,
 "worksheets": [
  {
   "cells": [
    {
     "cell_type": "markdown",
     "metadata": {},
     "source": [
      "##BDD Behavior Driven Design using Cucumber\n",
      "\n",
      "Easy to write step definitions that mimic the clicks and text entry that a user might make, but these are:\n",
      "\n",
      "- Brittle, because they are very tied to a sequence of actions that might change in later iterations.\n",
      "\n",
      "- Overly verbose, detract from expressing intent of behavior.\n",
      "\n",
      "Instead of:\n",
      "\n",
      "    Given I am a registered user\n",
      "    When I visit the home page\n",
      "    And I move to the \"Email\" text field\n",
      "    And I fill in \"txporter@gmail.com\"\n",
      "    And I press the \"Sign in button\"\n",
      "    Then I should see \"Logged in\"\n",
      "\n",
      "Use a higher-level and expressive form:\n",
      "\n",
      "    Given I am a registered user\n",
      "    When I login\n",
      "    Then I should be logged in\n",
      "\n"
     ]
    },
    {
     "cell_type": "markdown",
     "metadata": {},
     "source": [
      "##Note on routes in `routes.rb`:\n",
      "\n",
      "While resourceful routing is fine and desired, simple routes work for specific pages and actions:\n",
      "\n",
      "`post '/movies/search_tmdb'`  will route to the `movies_controller.rb` and the `search_tmdb` method, if it arrives as a `POST` request.\n",
      "\n",
      "Q>> I am not sure if the movies controller comes from the `/movies/...` portion of the path directly, or because of the proceeding `resources posts\n",
      "\n",
      "A>> It comes from the `/movies/...` portion, and I also get a named path helper `movies_search_tmdb`\n"
     ]
    },
    {
     "cell_type": "markdown",
     "metadata": {},
     "source": [
      "##Cucumber Features\n",
      "\n",
      "DRY up preconditions with `Background` section to group steps to be repeated before each scenario, kind of like a `setUp()` method.\n",
      "\n"
     ]
    },
    {
     "cell_type": "markdown",
     "metadata": {},
     "source": [
      "## HTML,CSS, Haml\n",
      "\n",
      "HTML should contain semantic info, no presentation/formatting info.  CSS should style presentation.  Eases accessibility issues as well.  `Haml` eases html creation and forces well formed HTML.\n",
      "\n",
      "`CSS Zen Garden` great resource showing radically differrent appearance possible with CSS.\n",
      "\n",
      "### HAML\n",
      "Haml is python-like, scope is driven by indentation.\n",
      "\n",
      "- `%` identifies a tag.\n",
      "\n",
      "- `-` identifies non-rendered execution of ruby code, used for control/looping structures.\n",
      "\n",
      "- `=` identifies rendering execution of ruby code that returns something to be displayed.\n",
      "\n",
      "- `-#` comment.\n",
      "\n",
      "- `:{type}` marks content to be passed through a filter, like textile or markdown."
     ]
    }
   ],
   "metadata": {}
  }
 ]
}