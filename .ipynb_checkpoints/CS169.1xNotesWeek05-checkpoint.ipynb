{
 "metadata": {
  "name": ""
 },
 "nbformat": 3,
 "nbformat_minor": 0,
 "worksheets": [
  {
   "cells": [
    {
     "cell_type": "markdown",
     "metadata": {},
     "source": [
      "##TDD using RSpec and RCov\n",
      "\n",
      "`RSpec` involves writing tests for *the code you wish you had*, i.e. expressive methods, ideal design, then work towards it.\n",
      "\n",
      "Test Models and Controllers with RSpec, test views with Cucumber (although you *can* test views using RSpec).\n",
      "\n",
      "Use `autotest` to continuously run tests.\n",
      "\n",
      "**Seams** are mocks or stubs that emulate program function in order to decouple from actual program code under test: a place you can change you application's behavior without changing code.  That's what mocks and stubs do.  `RSpec.should_receive` specifies desired behavior for a method that may not exist yet, or one that is not the code under test!  `RSpec.should_receive` has to be set up before the method is actually called by code under test.\n",
      "\n",
      "Mocks and Stubs are used to decouple or isolate code.  Controller tests should only test the controller's dispatch functionality, not any Model methods it might also need to call in order to populate a view.\n",
      "\n",
      "*So, rather than looking at mocks and stubs as being unrealistic or 'fakey', or not testing 'real' stuff, they are isolating code behavior and making tests truely independant.*\n",
      "\n"
     ]
    },
    {
     "cell_type": "code",
     "collapsed": false,
     "input": [],
     "language": "python",
     "metadata": {},
     "outputs": []
    }
   ],
   "metadata": {}
  }
 ]
}