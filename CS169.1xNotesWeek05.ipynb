{
 "metadata": {
  "name": "CS169.1xNotesWeek05"
 },
 "nbformat": 3,
 "nbformat_minor": 0,
 "worksheets": [
  {
   "cells": [
    {
     "cell_type": "markdown",
     "metadata": {},
     "source": [
      "##TDD using RSpec and RCov"
     ]
    }
   ],
   "metadata": {}
  }
 ]
}