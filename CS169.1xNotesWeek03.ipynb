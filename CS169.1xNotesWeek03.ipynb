{
 "metadata": {
  "name": "CS169.1xNotesWeek03"
 },
 "nbformat": 3,
 "nbformat_minor": 0,
 "worksheets": [
  {
   "cells": [
    {
     "cell_type": "heading",
     "level": 1,
     "metadata": {},
     "source": [
      "SAAS and MVC Apps, Quickly."
     ]
    },
    {
     "cell_type": "markdown",
     "metadata": {},
     "source": [
      "##Quick rails project setup.\n",
      "\n",
      "NOTE that this is somewhat out of date, since based on early rails 3.1.x.\n",
      "\n",
      "`rails new myapp -T # -T suppresses UnitTest generation, since most folks use RSpec now`\n",
      "\n",
      "`rails generate migration create_movies` creates a migration that needs population with `up` and `down` methods.  \n",
      "\n",
      "- Table will be plural: `movies`.  `app/model/movie.rb` creates `Movie` class.  \n",
      "\n",
      "- `app/controller/movies_controller.rb` creates `MoviesController` which is plural.  \n",
      "\n",
      "- `MoviesController` inherits from `ApplicationController`.\n",
      "\n",
      "`rake db:migrate` runs any outstanding migrations.\n",
      "\n",
      "`bundle install --without production` runs bundle install, but suppresses evaluation of `production` group in Gemfile.\n",
      "\n",
      "`heroku create --stack cedar` creates a heroku app and returns path to it at heroku.\n",
      "\n",
      "`git push heroku master` pushes master branch to heroku and initializes app.  Requires SSH keys for user to be present at heroku.\n",
      "\n",
      "`heroku keys` lists existing SSH keys at heroku.\n",
      "\n",
      "`heroku keys:add {path to pub key}`  add ssh keys to heroku.\n",
      "\n",
      "`heroku logs` displays logs, useful when prod does not display useful errors.\n",
      "\n",
      "`heroku run rake db:migrate` and `heroku run rake db:seed` running rake tests."
     ]
    },
    {
     "cell_type": "markdown",
     "metadata": {},
     "source": [
      "## Rails overview\n",
      "\n",
      "- Controllers most likely need all CRUD actions:\n",
      "\n",
      "    - index, all\n",
      "\n",
      "    - show, one item\n",
      "\n",
      "    - new, enter new item\n",
      "\n",
      "    - create, actually save new data, via `POST` method on `new` view template\n",
      "\n",
      "    - edit, shows data to be changed and allows entry of changed item attributes.\n",
      "\n",
      "    - update, actually save changed data, via `PUT` method on `edit` view template.\n",
      "\n",
      "    - destroy, deletes item\n",
      "\n",
      "\n",
      "- Templates, via HAML, make use of an enormous number of helper methods that do everything from serving as shortcuts for action URL's to rendering data in fragments from model instances.  Form helpers very important: `ActionView::Helpers::FormHelper`.\n",
      "\n",
      "- RESTful routes simplify route definition and also make it easy to use helpers methods for action URL's.\n",
      "\n",
      "- Views for input forms can pass data in via `params` hash, which is avail to controller methods to use to create/update model instances.  Display forms have access to instances of model based on model finders:\n",
      "\n",
      "        def show\n",
      "          @movie = Movie.find(params[:id])  #params[:id] avail from RESTful route URL: http://app.com/movies/2\n",
      "          #Now @movie avail in template.\n",
      "        end\n"
     ]
    }
   ],
   "metadata": {}
  }
 ]
}