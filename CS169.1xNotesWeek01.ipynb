{
 "metadata": {
  "name": "CS169.1xNotesWeek01"
 },
 "nbformat": 3,
 "nbformat_minor": 0,
 "worksheets": [
  {
   "cells": [
    {
     "cell_type": "heading",
     "level": 1,
     "metadata": {},
     "source": [
      "Berkeley Software as a Service CS169.1x WEEK 1 notes."
     ]
    },
    {
     "cell_type": "code",
     "collapsed": false,
     "input": [
      "%%ruby\n",
      "# This allows me to run ruby code\n",
      "p \"Hello MIT!\""
     ],
     "language": "python",
     "metadata": {},
     "outputs": [
      {
       "output_type": "stream",
       "stream": "stdout",
       "text": [
        "\"Hello MIT!\"\n"
       ]
      }
     ],
     "prompt_number": 2
    },
    {
     "cell_type": "code",
     "collapsed": false,
     "input": [
      "%%ruby\n",
      "[1,2,3,4,5].each do |n|\n",
      "    p n\n",
      "    end"
     ],
     "language": "python",
     "metadata": {},
     "outputs": [
      {
       "output_type": "stream",
       "stream": "stdout",
       "text": [
        "1\n",
        "2\n",
        "3\n",
        "4\n",
        "5\n"
       ]
      }
     ],
     "prompt_number": 3
    },
    {
     "cell_type": "code",
     "collapsed": false,
     "input": [
      "%%ruby \n",
      "# Looks like I'm using rvm's default ruby!\n",
      "p RUBY_VERSION\n",
      "p RUBY_PATCHLEVEL"
     ],
     "language": "python",
     "metadata": {},
     "outputs": [
      {
       "output_type": "stream",
       "stream": "stdout",
       "text": [
        "\"1.9.3\"\n",
        "374\n"
       ]
      }
     ],
     "prompt_number": 1
    },
    {
     "cell_type": "markdown",
     "metadata": {},
     "source": [
      "## Software as a Service\n",
      "\n",
      "Methodology for developing software has changed over time.  Needs to, because software failures have been pretty spectacular.\n",
      "\n",
      "- Ariane 5 overflow error.\n",
      "\n",
      "\n",
      "Hardware engineering different than Software engineering:\n",
      "\n",
      "- HW designs are fixed prior to shipping, and starts to be come obsolete quickly.\n",
      "\n",
      "- SW changes over time, and can last for a very long time.\n",
      "\n",
      "- Legacy Code represents an ignored element of software engineering (SWE) in colleges.\n",
      "\n",
      "## Waterfall vs. Spiral vs. Agile Approaches.\n",
      "\n",
      "- Waterfall or BDUF.  Long time periods, discrete stages, big teams.  Works well for situations which demand detailed specs that won't change much.  Problems are that first design pretty much always stinks and requires a rewrite.\n",
      "\n",
      "- Spiral approach has most elements of BDUF but inserts prototypes to allow repetitive iterations of specs, but still takes a long time.\n",
      "\n",
      "- Agile, Agile manifesto 2001.  Change is a fact of life, forces quick iterations with incomplete but working prototypes to allow customer to decide if direction is good.\n",
      "\n",
      "## Assurance\n",
      "\n",
      "- Verification: did you buld the thing right?\n",
      "\n",
      "- Validation: did you build the right thing?\n",
      "\n",
      "Exhaustive testing is impossible, so we test different stuff at different stages:\n",
      "\n",
      "- Unit testing, tests individual functions.\n",
      "\n",
      "- Module or functional tests across functions within modules.\n",
      "\n",
      "- Integration tests test large chunks of modules or sub-systems.\n",
      "\n",
      "- System or acceptance tests, entire program or app tested at high levels for user acceptance.\n",
      "\n",
      "- Coverage testing.\n",
      "\n",
      "- Regression testing.\n",
      "\n",
      "- Formal methods for testing are very computationally expensive so very hard to do.  Not used very often. OS kernel, 10K LOC, cost $500.00 per LOC to test!\n",
      "\n",
      "Agile uses TDD.\n",
      "\n"
     ]
    },
    {
     "cell_type": "markdown",
     "metadata": {},
     "source": [
      "## SOA:\n",
      "\n",
      "All components are independant services that interact with each other via API's.\n",
      "\n",
      "This makes a complex app easy to upgrade and scale.\n",
      "\n"
     ]
    }
   ],
   "metadata": {}
  }
 ]
}